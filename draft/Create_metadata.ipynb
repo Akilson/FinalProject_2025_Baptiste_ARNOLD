{
 "cells": [
  {
   "cell_type": "code",
   "execution_count": 32,
   "id": "d20ef6e2",
   "metadata": {},
   "outputs": [],
   "source": [
    "import pandas as pd\n"
   ]
  },
  {
   "cell_type": "code",
   "execution_count": null,
   "id": "382318ab",
   "metadata": {},
   "outputs": [],
   "source": [
    "item_categories = pd.read_csv('data/item_categories.csv')\n",
    "item_daily_features = pd.read_csv('data/item_daily_features.csv')\n",
    "kuairec_caption = pd.read_csv('data/kuairec_caption_category.csv', encoding='utf-8',\n",
    "    na_values=[],\n",
    "    keep_default_na=False,\n",
    "    on_bad_lines='skip',   # skip problematic rows\n",
    "    engine='python')"
   ]
  },
  {
   "cell_type": "code",
   "execution_count": 34,
   "id": "afc3f2e9",
   "metadata": {},
   "outputs": [
    {
     "name": "stdout",
     "output_type": "stream",
     "text": [
      "0            [8]\n",
      "1        [27, 9]\n",
      "2            [9]\n",
      "3           [26]\n",
      "4            [5]\n",
      "          ...   \n",
      "10723       [11]\n",
      "10724        [2]\n",
      "10725       [15]\n",
      "10726       [19]\n",
      "10727        [5]\n",
      "Name: feat, Length: 10728, dtype: object\n"
     ]
    }
   ],
   "source": [
    "print(item_categories.feat)"
   ]
  },
  {
   "cell_type": "code",
   "execution_count": 35,
   "id": "07b621eb",
   "metadata": {},
   "outputs": [
    {
     "name": "stdout",
     "output_type": "stream",
     "text": [
      "10728\n"
     ]
    },
    {
     "data": {
      "text/plain": [
       "video_id            int64\n",
       "category_0          int64\n",
       "category_1          int64\n",
       "category_2          int64\n",
       "category_3          int64\n",
       "category_4          int64\n",
       "category_5          int64\n",
       "category_6          int64\n",
       "category_7          int64\n",
       "category_8          int64\n",
       "category_9          int64\n",
       "category_10         int64\n",
       "category_11         int64\n",
       "category_12         int64\n",
       "category_13         int64\n",
       "category_14         int64\n",
       "category_15         int64\n",
       "category_16         int64\n",
       "category_17         int64\n",
       "category_18         int64\n",
       "category_19         int64\n",
       "category_20         int64\n",
       "category_21         int64\n",
       "category_22         int64\n",
       "category_23         int64\n",
       "category_24         int64\n",
       "category_25         int64\n",
       "category_26         int64\n",
       "category_27         int64\n",
       "category_28         int64\n",
       "category_29         int64\n",
       "category_30         int64\n",
       "video_type        float64\n",
       "author_id           int64\n",
       "upload_dt           int64\n",
       "video_duration    float64\n",
       "music_id            int64\n",
       "dtype: object"
      ]
     },
     "execution_count": 35,
     "metadata": {},
     "output_type": "execute_result"
    }
   ],
   "source": [
    "import ast\n",
    "\n",
    "metadata = item_categories.copy()\n",
    "\n",
    "# add in metadata the videos categoories\n",
    "for i in range (31):\n",
    "    metadata['category_' + str(i)] = 0\n",
    "\n",
    "metadata['feat'] = metadata['feat'].apply(ast.literal_eval)\n",
    "for index, row in metadata.iterrows():\n",
    "    # Get the list of features for the current row\n",
    "    features = row['feat']\n",
    "\n",
    "    # Set the corresponding category columns to 1\n",
    "    for feat in features:\n",
    "        col_name = f'category_{feat}'\n",
    "        if col_name in metadata.columns:\n",
    "            metadata.at[index, col_name] = 1\n",
    "\n",
    "metadata.head()\n",
    "\n",
    "# add in metadata the videos metadata in item_daily_features merge on video_id\n",
    "video_metadata = item_daily_features[['video_id', 'author_id', 'video_type', 'upload_dt', 'video_duration', 'music_id']]\n",
    "# I only want one row per video_id\n",
    "video_metadata = video_metadata.drop_duplicates(subset=['video_id'])\n",
    "print(len(video_metadata))\n",
    "\n",
    "# Convert video type to int meaning if it is AD it is 0 and if it is NORMAL 1\n",
    "video_metadata['video_type'] = video_metadata['video_type'].apply(lambda x: 0 if x == 'AD' else 1)\n",
    "metadata['video_type'] = video_metadata['video_type']\n",
    "video_metadata.drop(columns=['video_type'], inplace=True)\n",
    "metadata = metadata.merge(video_metadata, how='inner', left_on='video_id', right_on='video_id')\n",
    "metadata.drop(columns=['feat'], inplace=True)\n",
    "\n",
    "# convert upload_dt to datetime\n",
    "metadata['upload_dt'] = pd.to_datetime(metadata['upload_dt'], format='%Y-%m-%d')\n",
    "# convert datetime to unix timestamp\n",
    "metadata['upload_dt'] = metadata['upload_dt'].astype('int64') // 10**9\n",
    "metadata.dtypes"
   ]
  },
  {
   "cell_type": "code",
   "execution_count": 57,
   "id": "06566940",
   "metadata": {},
   "outputs": [],
   "source": [
    "# We will consider the watch ratio as a rating\n",
    "interactions = pd.read_csv('data/small_matrix.csv')\n",
    "interactions.drop(columns=['play_duration', 'video_duration', 'date', 'timestamp'], inplace=True)\n",
    "# convert the watch ratio to have a float with 2 decimal points\n",
    "interactions['watch_ratio'] = interactions['watch_ratio'].apply(lambda x: round(x, 2))\n",
    "interactions.dropna(inplace=True)"
   ]
  },
  {
   "cell_type": "code",
   "execution_count": 58,
   "id": "302ba18a",
   "metadata": {},
   "outputs": [],
   "source": [
    "from sklearn.model_selection import train_test_split\n",
    "df_interaction_train, df_interaction_test = train_test_split(interactions, test_size=0.05, random_state=42)"
   ]
  },
  {
   "cell_type": "code",
   "execution_count": 59,
   "id": "be8d9167",
   "metadata": {},
   "outputs": [
    {
     "data": {
      "text/plain": [
       "(4269849, 224729)"
      ]
     },
     "execution_count": 59,
     "metadata": {},
     "output_type": "execute_result"
    }
   ],
   "source": [
    "len(df_interaction_train), len(df_interaction_test)"
   ]
  },
  {
   "cell_type": "code",
   "execution_count": 60,
   "id": "bf539cd6",
   "metadata": {},
   "outputs": [],
   "source": [
    "# If needed filter to take only video with a certain number of interactions"
   ]
  },
  {
   "cell_type": "code",
   "execution_count": 61,
   "id": "17d590fa",
   "metadata": {},
   "outputs": [
    {
     "data": {
      "text/html": [
       "<div>\n",
       "<style scoped>\n",
       "    .dataframe tbody tr th:only-of-type {\n",
       "        vertical-align: middle;\n",
       "    }\n",
       "\n",
       "    .dataframe tbody tr th {\n",
       "        vertical-align: top;\n",
       "    }\n",
       "\n",
       "    .dataframe thead th {\n",
       "        text-align: right;\n",
       "    }\n",
       "</style>\n",
       "<table border=\"1\" class=\"dataframe\">\n",
       "  <thead>\n",
       "    <tr style=\"text-align: right;\">\n",
       "      <th></th>\n",
       "      <th>user_id</th>\n",
       "      <th>video_id</th>\n",
       "      <th>time</th>\n",
       "      <th>watch_ratio</th>\n",
       "    </tr>\n",
       "  </thead>\n",
       "  <tbody>\n",
       "    <tr>\n",
       "      <th>3629783</th>\n",
       "      <td>5582</td>\n",
       "      <td>2305</td>\n",
       "      <td>2020-07-19 19:21:08.754</td>\n",
       "      <td>0.48</td>\n",
       "    </tr>\n",
       "    <tr>\n",
       "      <th>2501229</th>\n",
       "      <td>3935</td>\n",
       "      <td>2847</td>\n",
       "      <td>2020-08-06 19:09:15.721</td>\n",
       "      <td>0.91</td>\n",
       "    </tr>\n",
       "    <tr>\n",
       "      <th>2865248</th>\n",
       "      <td>4505</td>\n",
       "      <td>2476</td>\n",
       "      <td>2020-08-03 15:04:15.377</td>\n",
       "      <td>1.21</td>\n",
       "    </tr>\n",
       "    <tr>\n",
       "      <th>809873</th>\n",
       "      <td>1308</td>\n",
       "      <td>9572</td>\n",
       "      <td>2020-07-25 02:45:51.74</td>\n",
       "      <td>1.42</td>\n",
       "    </tr>\n",
       "    <tr>\n",
       "      <th>1413096</th>\n",
       "      <td>2205</td>\n",
       "      <td>3846</td>\n",
       "      <td>2020-07-24 01:39:23.707</td>\n",
       "      <td>1.08</td>\n",
       "    </tr>\n",
       "    <tr>\n",
       "      <th>...</th>\n",
       "      <td>...</td>\n",
       "      <td>...</td>\n",
       "      <td>...</td>\n",
       "      <td>...</td>\n",
       "    </tr>\n",
       "    <tr>\n",
       "      <th>1181323</th>\n",
       "      <td>1853</td>\n",
       "      <td>726</td>\n",
       "      <td>2020-07-27 10:53:33.699</td>\n",
       "      <td>1.37</td>\n",
       "    </tr>\n",
       "    <tr>\n",
       "      <th>1633180</th>\n",
       "      <td>2530</td>\n",
       "      <td>1301</td>\n",
       "      <td>2020-08-12 18:02:09.223</td>\n",
       "      <td>0.89</td>\n",
       "    </tr>\n",
       "    <tr>\n",
       "      <th>2324232</th>\n",
       "      <td>3660</td>\n",
       "      <td>3964</td>\n",
       "      <td>2020-07-18 07:30:35.159</td>\n",
       "      <td>0.42</td>\n",
       "    </tr>\n",
       "    <tr>\n",
       "      <th>4479227</th>\n",
       "      <td>6850</td>\n",
       "      <td>5826</td>\n",
       "      <td>2020-08-02 02:18:33.531</td>\n",
       "      <td>0.80</td>\n",
       "    </tr>\n",
       "    <tr>\n",
       "      <th>1761120</th>\n",
       "      <td>2699</td>\n",
       "      <td>723</td>\n",
       "      <td>2020-07-27 10:16:08.471</td>\n",
       "      <td>0.94</td>\n",
       "    </tr>\n",
       "  </tbody>\n",
       "</table>\n",
       "<p>4269849 rows × 4 columns</p>\n",
       "</div>"
      ],
      "text/plain": [
       "         user_id  video_id                     time  watch_ratio\n",
       "3629783     5582      2305  2020-07-19 19:21:08.754         0.48\n",
       "2501229     3935      2847  2020-08-06 19:09:15.721         0.91\n",
       "2865248     4505      2476  2020-08-03 15:04:15.377         1.21\n",
       "809873      1308      9572   2020-07-25 02:45:51.74         1.42\n",
       "1413096     2205      3846  2020-07-24 01:39:23.707         1.08\n",
       "...          ...       ...                      ...          ...\n",
       "1181323     1853       726  2020-07-27 10:53:33.699         1.37\n",
       "1633180     2530      1301  2020-08-12 18:02:09.223         0.89\n",
       "2324232     3660      3964  2020-07-18 07:30:35.159         0.42\n",
       "4479227     6850      5826  2020-08-02 02:18:33.531         0.80\n",
       "1761120     2699       723  2020-07-27 10:16:08.471         0.94\n",
       "\n",
       "[4269849 rows x 4 columns]"
      ]
     },
     "execution_count": 61,
     "metadata": {},
     "output_type": "execute_result"
    }
   ],
   "source": [
    "df_interaction_train"
   ]
  },
  {
   "cell_type": "code",
   "execution_count": 62,
   "id": "c2bb521b",
   "metadata": {},
   "outputs": [],
   "source": [
    "# Create a user-item matrix\n",
    "df_interaction_train = df_interaction_train.pivot(index='user_id', columns='video_id', values='watch_ratio').fillna(0)\n",
    "df_interaction_train.head()\n",
    "# Fill NaN values with -1\n",
    "df_interaction_train = df_interaction_train.fillna(-1)"
   ]
  },
  {
   "cell_type": "code",
   "execution_count": 65,
   "id": "3ea413c8",
   "metadata": {},
   "outputs": [],
   "source": [
    "from sklearn.metrics.pairwise import cosine_similarity\n",
    "\n",
    "metadata.dropna(inplace=True)\n",
    "cosine_matrix = cosine_similarity(metadata)"
   ]
  },
  {
   "cell_type": "code",
   "execution_count": 66,
   "id": "27a0f86e",
   "metadata": {},
   "outputs": [],
   "source": [
    "# Recommend the top 5 videos for a given user\n",
    "def recommend_videos(user_id, num_recommendations=5):\n",
    "    # Get the user's watched videos\n",
    "    user_watched_videos = df_interaction_train.loc[user_id]\n",
    "    # Get the indices of the videos that the user has not watched\n",
    "    unwatched_video_indices = user_watched_videos[user_watched_videos == -1].index\n",
    "    # Calculate the similarity scores for the unwatched videos\n",
    "    similarity_scores = cosine_matrix[user_watched_videos.index][unwatched_video_indices]\n",
    "    # Get the top N recommendations\n",
    "    top_video_indices = similarity_scores.argsort()[-num_recommendations:][::-1]\n",
    "    return metadata.iloc[top_video_indices]"
   ]
  },
  {
   "cell_type": "code",
   "execution_count": 67,
   "id": "8ae52e7a",
   "metadata": {},
   "outputs": [
    {
     "ename": "IndexError",
     "evalue": "index 183 is out of bounds for axis 0 with size 183",
     "output_type": "error",
     "traceback": [
      "\u001b[31m---------------------------------------------------------------------------\u001b[39m",
      "\u001b[31mIndexError\u001b[39m                                Traceback (most recent call last)",
      "\u001b[36mCell\u001b[39m\u001b[36m \u001b[39m\u001b[32mIn[67]\u001b[39m\u001b[32m, line 1\u001b[39m\n\u001b[32m----> \u001b[39m\u001b[32m1\u001b[39m \u001b[43mrecommend_videos\u001b[49m\u001b[43m(\u001b[49m\u001b[32;43m5582\u001b[39;49m\u001b[43m,\u001b[49m\u001b[43m \u001b[49m\u001b[43mnum_recommendations\u001b[49m\u001b[43m=\u001b[49m\u001b[32;43m5\u001b[39;49m\u001b[43m)\u001b[49m\n",
      "\u001b[36mCell\u001b[39m\u001b[36m \u001b[39m\u001b[32mIn[66]\u001b[39m\u001b[32m, line 8\u001b[39m, in \u001b[36mrecommend_videos\u001b[39m\u001b[34m(user_id, num_recommendations)\u001b[39m\n\u001b[32m      6\u001b[39m unwatched_video_indices = user_watched_videos[user_watched_videos == -\u001b[32m1\u001b[39m].index\n\u001b[32m      7\u001b[39m \u001b[38;5;66;03m# Calculate the similarity scores for the unwatched videos\u001b[39;00m\n\u001b[32m----> \u001b[39m\u001b[32m8\u001b[39m similarity_scores = \u001b[43mcosine_matrix\u001b[49m\u001b[43m[\u001b[49m\u001b[43muser_watched_videos\u001b[49m\u001b[43m.\u001b[49m\u001b[43mindex\u001b[49m\u001b[43m]\u001b[49m[unwatched_video_indices]\n\u001b[32m      9\u001b[39m \u001b[38;5;66;03m# Get the top N recommendations\u001b[39;00m\n\u001b[32m     10\u001b[39m top_video_indices = similarity_scores.argsort()[-num_recommendations:][::-\u001b[32m1\u001b[39m]\n",
      "\u001b[31mIndexError\u001b[39m: index 183 is out of bounds for axis 0 with size 183"
     ]
    }
   ],
   "source": [
    "recommend_videos(5582, num_recommendations=5)"
   ]
  }
 ],
 "metadata": {
  "kernelspec": {
   "display_name": ".final_project",
   "language": "python",
   "name": "python3"
  },
  "language_info": {
   "codemirror_mode": {
    "name": "ipython",
    "version": 3
   },
   "file_extension": ".py",
   "mimetype": "text/x-python",
   "name": "python",
   "nbconvert_exporter": "python",
   "pygments_lexer": "ipython3",
   "version": "3.12.3"
  }
 },
 "nbformat": 4,
 "nbformat_minor": 5
}
